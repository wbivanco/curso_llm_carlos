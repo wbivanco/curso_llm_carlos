{
 "cells": [
  {
   "cell_type": "markdown",
   "metadata": {},
   "source": [
    "# Resumen de las sentencias empleadas en el curso con LlamaIndex"
   ]
  },
  {
   "cell_type": "markdown",
   "metadata": {},
   "source": [
    "### Instalar librerías necesarias"
   ]
  },
  {
   "cell_type": "code",
   "execution_count": null,
   "metadata": {},
   "outputs": [],
   "source": [
    "!pip install llama-index -Uq"
   ]
  },
  {
   "cell_type": "markdown",
   "metadata": {},
   "source": [
    "## Ejemplo con RAG"
   ]
  },
  {
   "cell_type": "code",
   "execution_count": null,
   "metadata": {},
   "outputs": [],
   "source": [
    "# Carga las funcionalidades necesarias para indexar y buscar documentos\n",
    "from llama_index.core import (\n",
    "    VectorStoreIndex,\n",
    "    SimpleDirectoryReader,\n",
    "    StorageContext,\n",
    "    load_index_from_storage,\n",
    ")\n",
    "\n",
    "# Carga los documentos a indexar\n",
    "data_file = ['/content/Anexo.pdf']\n",
    "documents = SimpleDirectoryReader(input_files=data_file).load_data()\n",
    "\n",
    "# Vectoriza los documentos y los indexa\n",
    "index = VectorStoreIndex.from_documents(documents)\n",
    "\n",
    "# Consulta el índice con el texto de la pregunta\n",
    "query_engine = index.as_query_engine()\n",
    "response = query_engine.query(\"Resumen el documento en 100 palabras\")\n",
    "print(response)"
   ]
  }
 ],
 "metadata": {
  "kernelspec": {
   "display_name": "Python 3",
   "language": "python",
   "name": "python3"
  },
  "language_info": {
   "name": "python",
   "version": "3.11.9"
  }
 },
 "nbformat": 4,
 "nbformat_minor": 2
}
