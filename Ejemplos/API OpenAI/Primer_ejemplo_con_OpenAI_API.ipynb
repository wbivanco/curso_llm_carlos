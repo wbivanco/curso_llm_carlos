{
  "nbformat": 4,
  "nbformat_minor": 0,
  "metadata": {
    "colab": {
      "provenance": []
    },
    "kernelspec": {
      "name": "python3",
      "display_name": "Python 3"
    },
    "language_info": {
      "name": "python"
    }
  },
  "cells": [
    {
      "cell_type": "code",
      "execution_count": null,
      "metadata": {
        "id": "TnfoeakrdT2c"
      },
      "outputs": [],
      "source": [
        "!pip install openai -Uq"
      ]
    },
    {
      "cell_type": "code",
      "source": [
        "!pip -q install python-dotenv"
      ],
      "metadata": {
        "id": "Vvf5f6_GhWva"
      },
      "execution_count": 2,
      "outputs": []
    },
    {
      "cell_type": "code",
      "source": [
        "from google.colab import drive\n",
        "from dotenv import load_dotenv\n",
        "import os\n",
        "\n",
        "load_dotenv('/content/.env')"
      ],
      "metadata": {
        "id": "U08I-Mv1dtuG"
      },
      "execution_count": null,
      "outputs": []
    },
    {
      "cell_type": "code",
      "source": [
        "from openai import OpenAI\n",
        "client = OpenAI()"
      ],
      "metadata": {
        "id": "9KRrT2uGd3qC"
      },
      "execution_count": 5,
      "outputs": []
    },
    {
      "cell_type": "code",
      "source": [
        "response = client.chat.completions.create(\n",
        "  model=\"gpt-3.5-turbo\",\n",
        "  messages=[\n",
        "    {\"role\": \"system\", \"content\": \"Eres un poeta, con habilidades para explicar complejos conceptos de programación con gran claridad.\"},\n",
        "    {\"role\": \"user\", \"content\": \"Compone un poema sobre el concepto de recursión.\"}\n",
        "  ]\n",
        ")"
      ],
      "metadata": {
        "id": "QkkHEKP5d5pk"
      },
      "execution_count": 6,
      "outputs": []
    },
    {
      "cell_type": "code",
      "source": [
        "print(response)"
      ],
      "metadata": {
        "id": "mfZ5ETZnd7MR"
      },
      "execution_count": null,
      "outputs": []
    },
    {
      "cell_type": "code",
      "source": [
        "print(response.choices[0].message.content)"
      ],
      "metadata": {
        "id": "0mSjRKGlyLA_"
      },
      "execution_count": null,
      "outputs": []
    }
  ]
}