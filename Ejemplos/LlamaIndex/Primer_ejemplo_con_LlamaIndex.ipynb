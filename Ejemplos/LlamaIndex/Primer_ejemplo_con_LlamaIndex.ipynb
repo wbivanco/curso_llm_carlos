{
  "nbformat": 4,
  "nbformat_minor": 0,
  "metadata": {
    "colab": {
      "provenance": []
    },
    "kernelspec": {
      "name": "python3",
      "display_name": "Python 3"
    },
    "language_info": {
      "name": "python"
    }
  },
  "cells": [
    {
      "cell_type": "code",
      "execution_count": null,
      "metadata": {
        "id": "TnfoeakrdT2c"
      },
      "outputs": [],
      "source": [
        "!pip install llama-index -Uq"
      ]
    },
    {
      "cell_type": "code",
      "source": [
        "!pip -q install python-dotenv -Uq"
      ],
      "metadata": {
        "id": "Vvf5f6_GhWva"
      },
      "execution_count": null,
      "outputs": []
    },
    {
      "cell_type": "code",
      "source": [
        "from google.colab import drive\n",
        "from dotenv import load_dotenv\n",
        "import os\n",
        "\n",
        "load_dotenv('/content/.env')"
      ],
      "metadata": {
        "id": "U08I-Mv1dtuG"
      },
      "execution_count": null,
      "outputs": []
    },
    {
      "cell_type": "code",
      "source": [
        "from llama_index.core import (\n",
        "    VectorStoreIndex,\n",
        "    SimpleDirectoryReader,\n",
        "    StorageContext,\n",
        "    load_index_from_storage,\n",
        ")"
      ],
      "metadata": {
        "id": "9KRrT2uGd3qC"
      },
      "execution_count": null,
      "outputs": []
    },
    {
      "cell_type": "code",
      "source": [
        "data_file = ['/content/Anexo.pdf']\n",
        "documents = SimpleDirectoryReader(input_files=data_file).load_data()"
      ],
      "metadata": {
        "id": "QkkHEKP5d5pk"
      },
      "execution_count": null,
      "outputs": []
    },
    {
      "cell_type": "code",
      "source": [
        "index = VectorStoreIndex.from_documents(documents)"
      ],
      "metadata": {
        "id": "mfZ5ETZnd7MR"
      },
      "execution_count": null,
      "outputs": []
    },
    {
      "cell_type": "code",
      "source": [
        "query_engine = index.as_query_engine()\n",
        "response = query_engine.query(\"Resumen el documento en 100 palabras\")\n",
        "print(response)"
      ],
      "metadata": {
        "id": "0mSjRKGlyLA_"
      },
      "execution_count": null,
      "outputs": []
    }
  ]
}