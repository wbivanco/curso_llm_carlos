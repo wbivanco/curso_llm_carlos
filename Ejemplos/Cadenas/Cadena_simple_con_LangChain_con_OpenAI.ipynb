{
  "nbformat": 4,
  "nbformat_minor": 0,
  "metadata": {
    "colab": {
      "provenance": []
    },
    "kernelspec": {
      "name": "python3",
      "display_name": "Python 3"
    },
    "language_info": {
      "name": "python"
    }
  },
  "cells": [
    {
      "cell_type": "code",
      "source": [
        "!pip install langchain==0.1.16"
      ],
      "metadata": {
        "id": "fO_-61sTBuyC"
      },
      "execution_count": null,
      "outputs": []
    },
    {
      "cell_type": "code",
      "source": [
        "from google.colab import userdata\n",
        "openai_api_key = userdata.get('OPENAI_API_KEY')"
      ],
      "metadata": {
        "id": "1f3Lqt9ZD6Cx"
      },
      "execution_count": null,
      "outputs": []
    },
    {
      "cell_type": "code",
      "source": [
        "from langchain.prompts import PromptTemplate"
      ],
      "metadata": {
        "id": "lBi_7_8pLHAz"
      },
      "execution_count": null,
      "outputs": []
    },
    {
      "cell_type": "code",
      "source": [
        "template = \"Traduce del español al {idioma} el siguiente texto: '{texto}'\""
      ],
      "metadata": {
        "id": "46sfky37E70Z"
      },
      "execution_count": null,
      "outputs": []
    },
    {
      "cell_type": "code",
      "source": [
        "texto=\"¡Hola mundo!\""
      ],
      "metadata": {
        "id": "FZ1sxOe9MmA6"
      },
      "execution_count": null,
      "outputs": []
    },
    {
      "cell_type": "code",
      "source": [
        "prompt_template = PromptTemplate(\n",
        "    input_variables=[\"idioma\",\"texto\"], template=template\n",
        ")"
      ],
      "metadata": {
        "id": "yUCo-_TlNYI7"
      },
      "execution_count": null,
      "outputs": []
    },
    {
      "cell_type": "code",
      "source": [
        "!pip install langchain-openai==0.1.3"
      ],
      "metadata": {
        "id": "jtbSBpY5OF5S"
      },
      "execution_count": null,
      "outputs": []
    },
    {
      "cell_type": "code",
      "execution_count": null,
      "metadata": {
        "id": "GwYWCvRRBeel"
      },
      "outputs": [],
      "source": [
        "from langchain_openai import ChatOpenAI\n",
        "from langchain.chains import LLMChain"
      ]
    },
    {
      "cell_type": "code",
      "source": [
        "llm = ChatOpenAI(temperature=0, model_name=\"gpt-3.5-turbo\", api_key=openai_api_key)"
      ],
      "metadata": {
        "id": "A4KSVbRFCUOX"
      },
      "execution_count": null,
      "outputs": []
    },
    {
      "cell_type": "code",
      "source": [
        "chain = LLMChain(llm=llm, prompt=prompt_template)"
      ],
      "metadata": {
        "id": "h8Lo5NbTOrDP"
      },
      "execution_count": null,
      "outputs": []
    },
    {
      "cell_type": "code",
      "source": [
        "respuesta = chain.invoke(input={\"idioma\":\"italiano\",\"texto\":texto})\n",
        "print(respuesta[\"text\"])"
      ],
      "metadata": {
        "id": "UAaX1mpqOXBa"
      },
      "execution_count": null,
      "outputs": []
    }
  ]
}