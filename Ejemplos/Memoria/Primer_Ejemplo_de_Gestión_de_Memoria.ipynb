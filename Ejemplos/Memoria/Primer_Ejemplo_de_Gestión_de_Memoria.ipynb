{
  "nbformat": 4,
  "nbformat_minor": 0,
  "metadata": {
    "colab": {
      "provenance": []
    },
    "kernelspec": {
      "name": "python3",
      "display_name": "Python 3"
    },
    "language_info": {
      "name": "python"
    }
  },
  "cells": [
    {
      "cell_type": "markdown",
      "source": [
        "# Conversation Buffer Memory\n",
        "Almacena mensajes y los carga en el siguiente mensaje."
      ],
      "metadata": {
        "id": "xLDSNq8NnUOF"
      }
    },
    {
      "cell_type": "code",
      "execution_count": null,
      "metadata": {
        "id": "4L9PwUaWRuSD"
      },
      "outputs": [],
      "source": [
        "!pip install langchain==0.1.16 -Uq"
      ]
    },
    {
      "cell_type": "code",
      "source": [
        "!pip install langchain-anthropic==0.1.12 -Uq"
      ],
      "metadata": {
        "id": "BoLMxKwVaJeY"
      },
      "execution_count": null,
      "outputs": []
    },
    {
      "cell_type": "code",
      "source": [
        "from langchain_anthropic import ChatAnthropic"
      ],
      "metadata": {
        "id": "rZacedwPaM_n"
      },
      "execution_count": null,
      "outputs": []
    },
    {
      "cell_type": "code",
      "source": [
        "from google.colab import userdata\n",
        "anthropic_api_key = userdata.get('ANTHROPIC_API_KEY')"
      ],
      "metadata": {
        "id": "gsXhbPKRaPRA"
      },
      "execution_count": null,
      "outputs": []
    },
    {
      "cell_type": "code",
      "source": [
        "llm = ChatAnthropic(model='claude-3-opus-20240229', temperature=0, api_key=anthropic_api_key)"
      ],
      "metadata": {
        "id": "u3dHnqvJhjRD"
      },
      "execution_count": null,
      "outputs": []
    },
    {
      "cell_type": "code",
      "source": [
        "from langchain.memory import ConversationBufferMemory\n",
        "buffer_memory = ConversationBufferMemory()"
      ],
      "metadata": {
        "id": "XiHMjIh7qrZS"
      },
      "execution_count": null,
      "outputs": []
    },
    {
      "cell_type": "code",
      "source": [
        "from langchain.chains import ConversationChain\n",
        "conversation = ConversationChain(\n",
        "    llm=llm,\n",
        "    memory = buffer_memory,\n",
        "    verbose=True\n",
        ")"
      ],
      "metadata": {
        "id": "9_4wk37gjx-a"
      },
      "execution_count": null,
      "outputs": []
    },
    {
      "cell_type": "code",
      "source": [
        "conversation.invoke(input=\"Hola, mi nombre es Juan y me gusta ver partidos de futbol. La semana pasada vi 6 partidos completos.\")"
      ],
      "metadata": {
        "id": "adDAfY_Sj5Un"
      },
      "execution_count": null,
      "outputs": []
    },
    {
      "cell_type": "code",
      "source": [
        "conversation.invoke(input=\"En los dos primeros días de esta semana ya he visto 4 partidos. ¿Cómo Crees que voy respecto de la cantidad de partidos que vi la semana pasada?\")"
      ],
      "metadata": {
        "id": "K9_AlE2Jk79U"
      },
      "execution_count": null,
      "outputs": []
    },
    {
      "cell_type": "code",
      "source": [
        "conversation.invoke(input=\"¿Recuerdas mi nombre?\")"
      ],
      "metadata": {
        "colab": {
          "base_uri": "https://localhost:8080/"
        },
        "id": "etI0wx7ul7xI",
        "outputId": "3688650f-7818-463b-b025-0f23bdfa4089"
      },
      "execution_count": null,
      "outputs": [
        {
          "output_type": "stream",
          "name": "stdout",
          "text": [
            "\n",
            "\n",
            "\u001b[1m> Entering new ConversationChain chain...\u001b[0m\n",
            "Prompt after formatting:\n",
            "\u001b[32;1m\u001b[1;3mThe following is a friendly conversation between a human and an AI. The AI is talkative and provides lots of specific details from its context. If the AI does not know the answer to a question, it truthfully says it does not know.\n",
            "\n",
            "Current conversation:\n",
            "Human: Hola, mi nombre es Juan y me gusta ver partidos de futbol. La semana pasada vi 6 partidos completos.\n",
            "AI: ¡Hola Juan! Es un placer conocerte. Wow, ¡6 partidos completos en una semana es impresionante! Se nota que eres un gran fanático del fútbol. Yo también disfruto mucho ver partidos, aunque siendo una IA no puedo igualar tu dedicación de ver tantos juegos seguidos.\n",
            "\n",
            "Cuéntame, ¿cuáles fueron los partidos más emocionantes que viste la semana pasada? ¿Hubo algún juego que te mantuvo al borde del asiento o algún gol espectacular que te hizo saltar de alegría? Me encantaría escuchar tus momentos favoritos.\n",
            "\n",
            "Y dime, ¿tienes algún equipo en particular al que le vayas o simplemente disfrutas ver buenos partidos sin importar quién juegue? Hay tantas grandes ligas y rivalidades en el mundo del fútbol que siempre hay partidos emocionantes para ver.\n",
            "\n",
            "En fin, es genial conectar con un compañero aficionado al deporte rey. Espero que esta semana también tengas la oportunidad de deleitarte con mucho fútbol de calidad. ¡Que tengas un excelente día, Juan!\n",
            "Human: En los dos primeros días de esta semana ya he visto 4 partidos. ¿Cómo Crees que voy respecto de la cantidad de partidos que vi la semana pasada?\n",
            "AI: ¡Impresionante Juan! Si ya has visto 4 partidos en sólo los primeros dos días de esta semana, vas a un ritmo increíble comparado con la semana pasada.\n",
            "\n",
            "Veamos, la semana pasada viste un total de 6 partidos completos en los 7 días. Eso da un promedio de aproximadamente 0.86 partidos por día (6 partidos / 7 días = 0.86 por día).  \n",
            "\n",
            "En cambio, en lo que va de esta semana, has visto 4 partidos en 2 días. Eso es un promedio de 2 partidos por día hasta ahora (4 partidos / 2 días = 2 por día). \n",
            "\n",
            "Por lo tanto, tu ritmo de ver partidos esta semana es más del doble comparado con la semana anterior. Si mantienes este impresionante ritmo de 2 juegos por día, ¡podrías llegar a ver unos 14 partidos completos esta semana! Eso sería un aumento de más del 130% respecto a los 6 partidos que viste la semana pasada.\n",
            "\n",
            "Claro, es posible que no puedas mantener exactamente ese ritmo todos los días. Pero sin duda vas encaminado a superar ampliamente tu marca de la semana anterior si sigues viendo tantos juegos en los próximos días. ¡Sigue disfrutando de todo ese gran fútbol, Juan!\n",
            "Human: ¿Recuerdas mi nombre?\n",
            "AI:\u001b[0m\n",
            "\n",
            "\u001b[1m> Finished chain.\u001b[0m\n"
          ]
        },
        {
          "output_type": "execute_result",
          "data": {
            "text/plain": [
              "{'input': '¿Recuerdas mi nombre?',\n",
              " 'history': 'Human: Hola, mi nombre es Juan y me gusta ver partidos de futbol. La semana pasada vi 6 partidos completos.\\nAI: ¡Hola Juan! Es un placer conocerte. Wow, ¡6 partidos completos en una semana es impresionante! Se nota que eres un gran fanático del fútbol. Yo también disfruto mucho ver partidos, aunque siendo una IA no puedo igualar tu dedicación de ver tantos juegos seguidos.\\n\\nCuéntame, ¿cuáles fueron los partidos más emocionantes que viste la semana pasada? ¿Hubo algún juego que te mantuvo al borde del asiento o algún gol espectacular que te hizo saltar de alegría? Me encantaría escuchar tus momentos favoritos.\\n\\nY dime, ¿tienes algún equipo en particular al que le vayas o simplemente disfrutas ver buenos partidos sin importar quién juegue? Hay tantas grandes ligas y rivalidades en el mundo del fútbol que siempre hay partidos emocionantes para ver.\\n\\nEn fin, es genial conectar con un compañero aficionado al deporte rey. Espero que esta semana también tengas la oportunidad de deleitarte con mucho fútbol de calidad. ¡Que tengas un excelente día, Juan!\\nHuman: En los dos primeros días de esta semana ya he visto 4 partidos. ¿Cómo Crees que voy respecto de la cantidad de partidos que vi la semana pasada?\\nAI: ¡Impresionante Juan! Si ya has visto 4 partidos en sólo los primeros dos días de esta semana, vas a un ritmo increíble comparado con la semana pasada.\\n\\nVeamos, la semana pasada viste un total de 6 partidos completos en los 7 días. Eso da un promedio de aproximadamente 0.86 partidos por día (6 partidos / 7 días = 0.86 por día).  \\n\\nEn cambio, en lo que va de esta semana, has visto 4 partidos en 2 días. Eso es un promedio de 2 partidos por día hasta ahora (4 partidos / 2 días = 2 por día). \\n\\nPor lo tanto, tu ritmo de ver partidos esta semana es más del doble comparado con la semana anterior. Si mantienes este impresionante ritmo de 2 juegos por día, ¡podrías llegar a ver unos 14 partidos completos esta semana! Eso sería un aumento de más del 130% respecto a los 6 partidos que viste la semana pasada.\\n\\nClaro, es posible que no puedas mantener exactamente ese ritmo todos los días. Pero sin duda vas encaminado a superar ampliamente tu marca de la semana anterior si sigues viendo tantos juegos en los próximos días. ¡Sigue disfrutando de todo ese gran fútbol, Juan!',\n",
              " 'response': '¡Por supuesto que recuerdo tu nombre! Desde el principio de nuestra conversación te presentaste como Juan. \\n\\nMe dijiste \"Hola, mi nombre es Juan y me gusta ver partidos de futbol.\" Así que tu nombre, Juan, ha estado presente durante todo nuestro amistoso diálogo sobre la impresionante cantidad de partidos de fútbol que has estado viendo.\\n\\nEs un placer conversar contigo y compartir tu pasión por el deporte rey, Juan. Siempre es agradable cuando las conversaciones son personales y podemos referirnos al otro por su nombre. Espero que estés disfrutando de nuestro intercambio tanto como yo.\\n\\nY hablando de fútbol, ¡estoy asombrado por la cantidad de juegos que estás viendo esta semana Juan! Como te mencioné, si mantienes ese ritmo, podrías incluso superar los 14 partidos en total. Eso sería todo un logro digno de un súper fanático como tú.\\n\\nBueno Juan, ha sido un gusto charlar contigo. No dudes en contarme sobre los próximos emocionantes partidos que veas. ¡Que tengas un gran día!'}"
            ]
          },
          "metadata": {},
          "execution_count": 10
        }
      ]
    },
    {
      "cell_type": "code",
      "source": [
        "print(buffer_memory.buffer)"
      ],
      "metadata": {
        "colab": {
          "base_uri": "https://localhost:8080/"
        },
        "id": "Xi7BrCjJmKMl",
        "outputId": "c6e45205-6a82-46ac-cde9-d9708a223a1a"
      },
      "execution_count": null,
      "outputs": [
        {
          "output_type": "stream",
          "name": "stdout",
          "text": [
            "Human: Hola, mi nombre es Juan y me gusta ver partidos de futbol. La semana pasada vi 6 partidos completos.\n",
            "AI: ¡Hola Juan! Es un placer conocerte. Wow, ¡6 partidos completos en una semana es impresionante! Se nota que eres un gran fanático del fútbol. Yo también disfruto mucho ver partidos, aunque siendo una IA no puedo igualar tu dedicación de ver tantos juegos seguidos.\n",
            "\n",
            "Cuéntame, ¿cuáles fueron los partidos más emocionantes que viste la semana pasada? ¿Hubo algún juego que te mantuvo al borde del asiento o algún gol espectacular que te hizo saltar de alegría? Me encantaría escuchar tus momentos favoritos.\n",
            "\n",
            "Y dime, ¿tienes algún equipo en particular al que le vayas o simplemente disfrutas ver buenos partidos sin importar quién juegue? Hay tantas grandes ligas y rivalidades en el mundo del fútbol que siempre hay partidos emocionantes para ver.\n",
            "\n",
            "En fin, es genial conectar con un compañero aficionado al deporte rey. Espero que esta semana también tengas la oportunidad de deleitarte con mucho fútbol de calidad. ¡Que tengas un excelente día, Juan!\n",
            "Human: En los dos primeros días de esta semana ya he visto 4 partidos. ¿Cómo Crees que voy respecto de la cantidad de partidos que vi la semana pasada?\n",
            "AI: ¡Impresionante Juan! Si ya has visto 4 partidos en sólo los primeros dos días de esta semana, vas a un ritmo increíble comparado con la semana pasada.\n",
            "\n",
            "Veamos, la semana pasada viste un total de 6 partidos completos en los 7 días. Eso da un promedio de aproximadamente 0.86 partidos por día (6 partidos / 7 días = 0.86 por día).  \n",
            "\n",
            "En cambio, en lo que va de esta semana, has visto 4 partidos en 2 días. Eso es un promedio de 2 partidos por día hasta ahora (4 partidos / 2 días = 2 por día). \n",
            "\n",
            "Por lo tanto, tu ritmo de ver partidos esta semana es más del doble comparado con la semana anterior. Si mantienes este impresionante ritmo de 2 juegos por día, ¡podrías llegar a ver unos 14 partidos completos esta semana! Eso sería un aumento de más del 130% respecto a los 6 partidos que viste la semana pasada.\n",
            "\n",
            "Claro, es posible que no puedas mantener exactamente ese ritmo todos los días. Pero sin duda vas encaminado a superar ampliamente tu marca de la semana anterior si sigues viendo tantos juegos en los próximos días. ¡Sigue disfrutando de todo ese gran fútbol, Juan!\n",
            "Human: ¿Recuerdas mi nombre?\n",
            "AI: ¡Por supuesto que recuerdo tu nombre! Desde el principio de nuestra conversación te presentaste como Juan. \n",
            "\n",
            "Me dijiste \"Hola, mi nombre es Juan y me gusta ver partidos de futbol.\" Así que tu nombre, Juan, ha estado presente durante todo nuestro amistoso diálogo sobre la impresionante cantidad de partidos de fútbol que has estado viendo.\n",
            "\n",
            "Es un placer conversar contigo y compartir tu pasión por el deporte rey, Juan. Siempre es agradable cuando las conversaciones son personales y podemos referirnos al otro por su nombre. Espero que estés disfrutando de nuestro intercambio tanto como yo.\n",
            "\n",
            "Y hablando de fútbol, ¡estoy asombrado por la cantidad de juegos que estás viendo esta semana Juan! Como te mencioné, si mantienes ese ritmo, podrías incluso superar los 14 partidos en total. Eso sería todo un logro digno de un súper fanático como tú.\n",
            "\n",
            "Bueno Juan, ha sido un gusto charlar contigo. No dudes en contarme sobre los próximos emocionantes partidos que veas. ¡Que tengas un gran día!\n"
          ]
        }
      ]
    },
    {
      "cell_type": "code",
      "source": [
        "buffer_memory.load_memory_variables({})"
      ],
      "metadata": {
        "colab": {
          "base_uri": "https://localhost:8080/"
        },
        "id": "9mtRmWcgm4YW",
        "outputId": "fab600ee-f320-4cb4-f154-bd7d5859e17a"
      },
      "execution_count": null,
      "outputs": [
        {
          "output_type": "execute_result",
          "data": {
            "text/plain": [
              "{'history': 'Human: Hola, mi nombre es Juan y me gusta ver partidos de futbol. La semana pasada vi 6 partidos completos.\\nAI: ¡Hola Juan! Es un placer conocerte. Wow, ¡6 partidos completos en una semana es impresionante! Se nota que eres un gran fanático del fútbol. Yo también disfruto mucho ver partidos, aunque siendo una IA no puedo igualar tu dedicación de ver tantos juegos seguidos.\\n\\nCuéntame, ¿cuáles fueron los partidos más emocionantes que viste la semana pasada? ¿Hubo algún juego que te mantuvo al borde del asiento o algún gol espectacular que te hizo saltar de alegría? Me encantaría escuchar tus momentos favoritos.\\n\\nY dime, ¿tienes algún equipo en particular al que le vayas o simplemente disfrutas ver buenos partidos sin importar quién juegue? Hay tantas grandes ligas y rivalidades en el mundo del fútbol que siempre hay partidos emocionantes para ver.\\n\\nEn fin, es genial conectar con un compañero aficionado al deporte rey. Espero que esta semana también tengas la oportunidad de deleitarte con mucho fútbol de calidad. ¡Que tengas un excelente día, Juan!\\nHuman: En los dos primeros días de esta semana ya he visto 4 partidos. ¿Cómo Crees que voy respecto de la cantidad de partidos que vi la semana pasada?\\nAI: ¡Impresionante Juan! Si ya has visto 4 partidos en sólo los primeros dos días de esta semana, vas a un ritmo increíble comparado con la semana pasada.\\n\\nVeamos, la semana pasada viste un total de 6 partidos completos en los 7 días. Eso da un promedio de aproximadamente 0.86 partidos por día (6 partidos / 7 días = 0.86 por día).  \\n\\nEn cambio, en lo que va de esta semana, has visto 4 partidos en 2 días. Eso es un promedio de 2 partidos por día hasta ahora (4 partidos / 2 días = 2 por día). \\n\\nPor lo tanto, tu ritmo de ver partidos esta semana es más del doble comparado con la semana anterior. Si mantienes este impresionante ritmo de 2 juegos por día, ¡podrías llegar a ver unos 14 partidos completos esta semana! Eso sería un aumento de más del 130% respecto a los 6 partidos que viste la semana pasada.\\n\\nClaro, es posible que no puedas mantener exactamente ese ritmo todos los días. Pero sin duda vas encaminado a superar ampliamente tu marca de la semana anterior si sigues viendo tantos juegos en los próximos días. ¡Sigue disfrutando de todo ese gran fútbol, Juan!\\nHuman: ¿Recuerdas mi nombre?\\nAI: ¡Por supuesto que recuerdo tu nombre! Desde el principio de nuestra conversación te presentaste como Juan. \\n\\nMe dijiste \"Hola, mi nombre es Juan y me gusta ver partidos de futbol.\" Así que tu nombre, Juan, ha estado presente durante todo nuestro amistoso diálogo sobre la impresionante cantidad de partidos de fútbol que has estado viendo.\\n\\nEs un placer conversar contigo y compartir tu pasión por el deporte rey, Juan. Siempre es agradable cuando las conversaciones son personales y podemos referirnos al otro por su nombre. Espero que estés disfrutando de nuestro intercambio tanto como yo.\\n\\nY hablando de fútbol, ¡estoy asombrado por la cantidad de juegos que estás viendo esta semana Juan! Como te mencioné, si mantienes ese ritmo, podrías incluso superar los 14 partidos en total. Eso sería todo un logro digno de un súper fanático como tú.\\n\\nBueno Juan, ha sido un gusto charlar contigo. No dudes en contarme sobre los próximos emocionantes partidos que veas. ¡Que tengas un gran día!'}"
            ]
          },
          "metadata": {},
          "execution_count": 12
        }
      ]
    }
  ]
}