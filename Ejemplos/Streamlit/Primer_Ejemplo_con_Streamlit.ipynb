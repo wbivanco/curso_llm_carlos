{
  "cells": [
    {
      "cell_type": "code",
      "execution_count": null,
      "metadata": {
        "id": "4L9PwUaWRuSD"
      },
      "outputs": [],
      "source": [
        "!pip install langchain==0.1.16 -Uq"
      ]
    },
    {
      "cell_type": "code",
      "execution_count": null,
      "metadata": {
        "id": "BoLMxKwVaJeY"
      },
      "outputs": [],
      "source": [
        "!pip install langchain-openai==0.1.3 -Uq"
      ]
    },
    {
      "cell_type": "code",
      "execution_count": null,
      "metadata": {
        "id": "mhfzogYhXY2Q"
      },
      "outputs": [],
      "source": [
        "!pip install streamlit -Uq"
      ]
    },
    {
      "cell_type": "code",
      "execution_count": null,
      "metadata": {
        "id": "rVnHBH01c7ss"
      },
      "outputs": [],
      "source": [
        "!wget -q -O - ipv4.icanhazip.com"
      ]
    },
    {
      "cell_type": "code",
      "execution_count": null,
      "metadata": {
        "id": "cAZyQBGGY6m0"
      },
      "outputs": [],
      "source": [
        "!streamlit run '/content/drive/MyDrive/Desarrollo de Aplicaciones LLM con LangChain, LlamaIndex y OpenAI/Clase 6/Primer Ejemplo con Streamlit/main.py' & npx localtunnel --port 8501"
      ]
    }
  ],
  "metadata": {
    "colab": {
      "provenance": []
    },
    "kernelspec": {
      "display_name": "Python 3",
      "name": "python3"
    },
    "language_info": {
      "name": "python"
    }
  },
  "nbformat": 4,
  "nbformat_minor": 0
}