{
  "nbformat": 4,
  "nbformat_minor": 0,
  "metadata": {
    "colab": {
      "provenance": []
    },
    "kernelspec": {
      "name": "python3",
      "display_name": "Python 3"
    },
    "language_info": {
      "name": "python"
    }
  },
  "cells": [
    {
      "cell_type": "code",
      "execution_count": null,
      "metadata": {
        "id": "6WWx48B_iytY"
      },
      "outputs": [],
      "source": [
        "!pip install crewai -Uq"
      ]
    },
    {
      "cell_type": "code",
      "source": [
        "import os\n",
        "from crewai import Agent, Task, Crew, Process\n",
        "from google.colab import userdata\n",
        "\n",
        "os.environ[\"OPENAI_API_KEY\"] = userdata.get('OPENAI_API_KEY')"
      ],
      "metadata": {
        "id": "ranMHWRsjjG0"
      },
      "execution_count": null,
      "outputs": []
    },
    {
      "cell_type": "code",
      "source": [
        "from langchain_openai import ChatOpenAI\n",
        "llm = ChatOpenAI(\n",
        "    model_name=\"gpt-3.5-turbo\",\n",
        "    temperature=0\n",
        ")"
      ],
      "metadata": {
        "id": "wbgcOK-nlYMj"
      },
      "execution_count": null,
      "outputs": []
    },
    {
      "cell_type": "code",
      "source": [
        "# Definimos nuestros agentes con roles y metas\n",
        "investigador = Agent(\n",
        "    role = 'Analista Investigador Senior',\n",
        "    goal = 'Descubrir desarrollos de vanguardia en IA y Ciencias de Datos',\n",
        "    backstory = \"\"\"Trabajas en una destacada empresa de tecnología.\n",
        "    Tu experiencia radica en identificar tendencias emergentes.\n",
        "    Tienes un talento especial para diseccionar datos complejos y presentar\n",
        "    perspectivas accionables.\"\"\",\n",
        "    verbose = True,\n",
        "    allow_delegation = False,\n",
        "    llm = llm\n",
        ")\n",
        "\n",
        "escritor = Agent(\n",
        "    role = 'Estratega de contenidos sobre tecnología',\n",
        "    goal = 'Crear contenido convincente sobre avances tecnológicos',\n",
        "    backstory = \"\"\"Eres un estratega de contenido renombrado, conocido por tus\n",
        "    artícuños perpicaces y atractivos. Transformas conceptos complejos en\n",
        "    narrativas convincentes.\"\"\",\n",
        "    verbose = True,\n",
        "    allow_delegation = False,\n",
        "    llm = llm\n",
        ")"
      ],
      "metadata": {
        "id": "E2EI8fyOj9Ak"
      },
      "execution_count": null,
      "outputs": []
    },
    {
      "cell_type": "code",
      "source": [
        "# Creamos tareas para nuestros agentes\n",
        "tarea1 = Task(\n",
        "    description = \"\"\"Realiza un análisis exhaustivo e los últimos avances en IA\n",
        "    en 2024. Identifica las tendencias clave, las tecnologías revolucionarias\n",
        "    y los posibles impactos en la industria.\"\"\",\n",
        "    expected_output=' Tu respuesta final debe ser un informe de análisis completo.',\n",
        "    agent = investigador\n",
        ")\n",
        "\n",
        "tarea2 = Task(\n",
        "    description =\"\"\"Utilizando los conocimientos proporcionados, desarrolla una\n",
        "    publicación de blog atractiva que resalte los avances más significativos\n",
        "    en IA. Tu publicación debe ser informativa pero accesible, dirigida a una\n",
        "    audiencia con conocimientos tecnológicos. Haz que suene genial, evita\n",
        "    palabras complejas para que no suene como IA.\"\"\",\n",
        "    expected_output='Tu respuesta final debe ser la publicación completa del blog de al menos 4 párrafos.',\n",
        "    agent = escritor\n",
        ")"
      ],
      "metadata": {
        "id": "FgCVI15pl-XJ"
      },
      "execution_count": null,
      "outputs": []
    },
    {
      "cell_type": "code",
      "source": [
        "# Instanciamos nuestro equipo con un proceso secuencial\n",
        "equipo = Crew(\n",
        "    agents=[investigador, escritor],\n",
        "    tasks=[tarea1, tarea2],\n",
        "    verbose=True,\n",
        "    process=Process.sequential\n",
        ")"
      ],
      "metadata": {
        "id": "LWxBNi-rpaW6"
      },
      "execution_count": null,
      "outputs": []
    },
    {
      "cell_type": "code",
      "source": [
        "# Poniendo nuestro equipo a trabajar\n",
        "resultado = equipo.kickoff()\n",
        "print(resultado)"
      ],
      "metadata": {
        "id": "5P5rE880qZhd"
      },
      "execution_count": null,
      "outputs": []
    }
  ]
}