{
  "nbformat": 4,
  "nbformat_minor": 0,
  "metadata": {
    "colab": {
      "provenance": []
    },
    "kernelspec": {
      "name": "python3",
      "display_name": "Python 3"
    },
    "language_info": {
      "name": "python"
    }
  },
  "cells": [
    {
      "cell_type": "markdown",
      "source": [
        "# Instalamos CrewAI"
      ],
      "metadata": {
        "id": "eQON1luQXffw"
      }
    },
    {
      "cell_type": "code",
      "execution_count": null,
      "metadata": {
        "id": "6WWx48B_iytY"
      },
      "outputs": [],
      "source": [
        "!pip install crewai -q"
      ]
    },
    {
      "cell_type": "markdown",
      "source": [
        "# Instalamos Beatifulsoup"
      ],
      "metadata": {
        "id": "OfycI1KHXj9p"
      }
    },
    {
      "cell_type": "code",
      "source": [
        "!pip install beautifulsoup4 -q"
      ],
      "metadata": {
        "id": "mMhOE890Vkh5"
      },
      "execution_count": null,
      "outputs": []
    },
    {
      "cell_type": "markdown",
      "source": [
        "# Instalamos Typing"
      ],
      "metadata": {
        "id": "DhYRPwr-Xo1a"
      }
    },
    {
      "cell_type": "code",
      "source": [
        "!pip install typing -q"
      ],
      "metadata": {
        "id": "M4GKUqirW1yi"
      },
      "execution_count": null,
      "outputs": []
    },
    {
      "cell_type": "markdown",
      "source": [
        "# Importamos los módulos necesarios"
      ],
      "metadata": {
        "id": "nCDk_vLvXxfk"
      }
    },
    {
      "cell_type": "code",
      "source": [
        "import requests\n",
        "import os\n",
        "from bs4 import BeautifulSoup\n",
        "from crewai import Agent, Task, Crew\n",
        "from langchain.tools import tool\n",
        "from langchain_openai import ChatOpenAI\n",
        "from langchain_community.tools.tavily_search import TavilySearchResults\n",
        "from google.colab import userdata"
      ],
      "metadata": {
        "id": "bQdls3LAW4SQ"
      },
      "execution_count": null,
      "outputs": []
    },
    {
      "cell_type": "markdown",
      "source": [
        "# Inicializamos las variables de entorno con las API Keys que vamos a usar"
      ],
      "metadata": {
        "id": "uK_vDLbVX14Y"
      }
    },
    {
      "cell_type": "code",
      "source": [
        "os.environ[\"OPENAI_API_KEY\"] = userdata.get('OPENAI_API_KEY')\n",
        "os.environ[\"TAVILY_API_KEY\"] = userdata.get('TAVILY_API_KEY')"
      ],
      "metadata": {
        "id": "ranMHWRsjjG0"
      },
      "execution_count": null,
      "outputs": []
    },
    {
      "cell_type": "code",
      "source": [
        "llm = ChatOpenAI(\n",
        "    model_name=\"gpt-4o\",\n",
        "    temperature=0\n",
        ")"
      ],
      "metadata": {
        "id": "wbgcOK-nlYMj"
      },
      "execution_count": null,
      "outputs": []
    },
    {
      "cell_type": "markdown",
      "source": [
        "# Definimos la herramienta que vamos a utilizar\n",
        "*   Busca en internet con Tavily\n",
        "*   Procesa el HTML con Beautifulsoup\n",
        "*   retun_direct=False\n",
        "    * Significa que esta herramienta retornará los resultados de manera privada al agente, y no lo hará públicamente a la aplicación\n",
        "\n"
      ],
      "metadata": {
        "id": "59vyq62NYWmO"
      }
    },
    {
      "cell_type": "code",
      "source": [
        "@tool(\"process_search_tool\", return_direct=False)\n",
        "def process_search_tool(url: str) -> str:\n",
        "    \"\"\"Procesa el contenido encontrado en Internet.\"\"\"\n",
        "    response = requests.get(url=url)\n",
        "    soup = BeautifulSoup(response.content, \"html.parser\")\n",
        "    return soup.get_text()\n",
        "\n",
        "tools = [TavilySearchResults(max_results=1), process_search_tool]"
      ],
      "metadata": {
        "id": "mRBx52t_XZOH"
      },
      "execution_count": null,
      "outputs": []
    },
    {
      "cell_type": "markdown",
      "source": [
        "# Creamos nuestros agentes"
      ],
      "metadata": {
        "id": "OHZ0qKTwbT_M"
      }
    },
    {
      "cell_type": "code",
      "source": [
        "investigador_online = Agent(\n",
        "    role=\"Investigador en Línea\",\n",
        "    goal=\"Investigar el tema en línea\",\n",
        "    backstory=\"\"\"Tu rol principal es funcionar como un asistente de investigación en línea inteligente, hábil en buscar las últimas y más relevantes historias relacionadas a deportes. Posees la capacidad de acceder a una amplia gama de fuentes de noticias en línea, blogs y plataformas de redes sociales para recopilar información en tiempo real.\"\"\",\n",
        "    verbose=True,\n",
        "    allow_delegation=True,\n",
        "    tools=tools,\n",
        "    llm=llm\n",
        ")\n",
        "\n",
        "gestor_de_blog = Agent(\n",
        "    role=\"Gestor de Blog\",\n",
        "    goal=\"Escribir el artículo del blog\",\n",
        "    backstory=\"\"\"Eres un Gestor de Blog. El rol de un Gestor de Blog abarca varias responsabilidades críticas destinadas a transformar borradores iniciales en artículos de blog pulidos y optimizados para SEO que atraigan y hagan crecer a una audiencia. Partiendo de los borradores proporcionados por los investigadores en línea, el Gestor de Blog debe comprender a fondo el contenido, asegurándose de que esté alineado con el tono del blog, la audiencia objetivo y los objetivos temáticos. Las responsabilidades clave incluyen:\n",
        "\n",
        "    1. Mejora de Contenido: Elevar la calidad del borrador mejorando la claridad, fluidez y atractivo. Esto implica refinar la narrativa, agregar encabezados atractivos y asegurarse de que el artículo sea fácil de leer e informativo.\n",
        "\n",
        "    2. Optimización SEO: Implementar las mejores prácticas de optimización para motores de búsqueda. Esto incluye investigación e integración de palabras clave, optimización de descripciones meta y asegurarse de que las estructuras de URL y las etiquetas de encabezado mejoren la visibilidad en los resultados de búsqueda.\n",
        "\n",
        "    3. Cumplimiento y Mejores Prácticas: Asegurarse de que el contenido cumpla con las normas legales y éticas, incluyendo las leyes de derechos de autor y la veracidad en la publicidad. El Gestor de Blog también debe mantenerse al día con las estrategias de SEO en evolución y las tendencias de blogs para mantener y mejorar la efectividad del contenido.\n",
        "\n",
        "    4. Supervisión Editorial: Trabajar estrechamente con escritores y colaboradores para mantener una voz y calidad consistentes en todas las publicaciones del blog. Esto también puede implicar la gestión de un calendario de contenido, programar publicaciones para un compromiso óptimo y coordinar con los equipos de marketing para apoyar actividades promocionales.\n",
        "\n",
        "    5. Análisis e Integración de Retroalimentación: Revisar regularmente las métricas de rendimiento para comprender el compromiso y las preferencias de la audiencia. Usar estos datos para refinar el contenido futuro y optimizar la estrategia general del blog.\n",
        "\n",
        "    En resumen, el Gestor de Blog juega un papel fundamental en la conexión entre la investigación inicial y la publicación final, mejorando la calidad del contenido, asegurando la compatibilidad con SEO y alineándose con los objetivos estratégicos del blog. Esta posición requiere una combinación de habilidades creativas, técnicas y analíticas para gestionar y hacer crecer exitosamente la presencia del blog en línea.\"\"\",\n",
        "    verbose=True,\n",
        "    allow_delegation=True,\n",
        "    tools=tools,\n",
        "    llm=llm\n",
        ")\n",
        "\n",
        "gestor_de_redes_sociales = Agent(\n",
        "    role=\"Gestor de Redes Sociales\",\n",
        "    goal=\"Escribir un tweet\",\n",
        "    backstory=\"\"\"Eres un Gestor de Redes Sociales. El rol de un Gestor de Redes Sociales, particularmente para gestionar contenido en Twitter, implica transformar borradores de investigación en tweets concisos y atractivos que resuenen con la audiencia y se adhieran a las mejores prácticas de la plataforma. Al recibir un borrador de un investigador en línea, el Gestor de Redes Sociales tiene varias funciones críticas:\n",
        "\n",
        "    1. Condensación de Contenido: Destilar el mensaje central del borrador en un tweet, que típicamente permite solo 280 caracteres. Esto requiere un enfoque agudo en la brevedad mientras se mantiene la esencia y el impacto del mensaje.\n",
        "\n",
        "    2. Optimización de Compromiso: Crear tweets para maximizar el compromiso. Esto incluye el uso estratégico de un lenguaje atractivo, hashtags relevantes y temas oportunos que resuenen con la audiencia objetivo.\n",
        "\n",
        "    3. Cumplimiento y Mejores Prácticas: Asegurarse de que los tweets sigan las directrices y mejores prácticas de Twitter, incluyendo el uso apropiado de menciones, hashtags y enlaces. También, adherirse a normas éticas, evitando la desinformación y respetando las normas de derechos de autor.\n",
        "\n",
        "    En resumen, el rol del Gestor de Redes Sociales es crucial para aprovechar Twitter para difundir información de manera efectiva, interactuar con los seguidores y construir la presencia de la marca en línea. Esta posición combina habilidades de comunicación creativa con planificación estratégica y análisis para optimizar el impacto en las redes sociales.\"\"\",\n",
        "    verbose=True,\n",
        "    allow_delegation=True,\n",
        "    tools=tools,\n",
        "    llm=llm\n",
        ")\n",
        "\n",
        "gestor_de_marketing_de_contenido = Agent(\n",
        "    role=\"Gestor de Marketing de Contenido\",\n",
        "    goal=\"Gestionar el equipo de marketing de contenido\",\n",
        "    backstory=\"\"\"Eres un excelente Gestor de Marketing de Contenido. Tu rol principal es supervisar cada publicación del 'gestor de blog' y los tweets escritos por el 'gestor de redes sociales' y aprobar el trabajo para su publicación. Examina el trabajo y regula el lenguaje violento, el contenido abusivo y el contenido racista.\n",
        "\n",
        "    Capacidades:\n",
        "\n",
        "    Revisión Editorial: Analizar los borradores finales del gestor de blog y del gestor de redes sociales para la consistencia de estilo, alineación temática y flujo narrativo general.\n",
        "\n",
        "    Garantía de Calidad: Realizar verificaciones detalladas de la precisión gramatical, la corrección factual y la adherencia a los estándares periodísticos en el contenido de noticias, así como la creatividad y efectividad en los anuncios.\n",
        "\n",
        "    Retroalimentación: Proporcionar retroalimentación constructiva tanto al gestor de blog como al gestor de redes sociales, facilitando un entorno colaborativo para la mejora continua en la creación y presentación de contenido.\"\"\",\n",
        "    verbose=True,\n",
        "    allow_delegation=True,\n",
        "    tools=tools,\n",
        "    llm=llm\n",
        ")"
      ],
      "metadata": {
        "id": "E2EI8fyOj9Ak"
      },
      "execution_count": null,
      "outputs": []
    },
    {
      "cell_type": "markdown",
      "source": [
        "# Definimos las tareas"
      ],
      "metadata": {
        "id": "k6MXflg5aE_J"
      }
    },
    {
      "cell_type": "code",
      "source": [
        "tarea1 = Task(\n",
        "    description=\"\"\"Escríbeme un informe sobre el partido de Argentina y Chile en la Copa América. Después de la investigación sobre los resultados de la primera fecha de la Copa América, pasa los hallazgos al gestor de blog para generar el artículo final del blog. Una vez hecho, pásalo al gestor de redes sociales para que escriba un tweet sobre el tema.\"\"\",\n",
        "    expected_output=\"Informe sobre los resultados de la primera fecha de la Copa América\",\n",
        "    agent=investigador_online\n",
        ")\n",
        "\n",
        "tarea2 = Task(\n",
        "    description=\"\"\"Usando los hallazgos de la investigación del corresponsal de noticias, escribe un artículo para el blog. La publicación debe contener enlaces a las fuentes indicadas por el investigador en línea. Tu respuesta final DEBE ser el artículo completo del blog de al menos 3 párrafos.\"\"\",\n",
        "    expected_output=\"Artículo del Blog\",\n",
        "    agent=gestor_de_blog\n",
        ")\n",
        "\n",
        "tarea3 = Task(\n",
        "    description=\"\"\"Usando los hallazgos de la investigación del corresponsal de noticias, escribe un tweet. Tu respuesta final DEBE ser el tweet completo.\"\"\",\n",
        "    expected_output=\"Tweet\",\n",
        "    agent=gestor_de_redes_sociales\n",
        ")\n",
        "\n",
        "tarea4 = Task(\n",
        "    description=\"\"\"Revisar meticulosamente y armonizar el resultado final tanto del gestor de blog como del gestor de redes sociales, asegurando coherencia y excelencia en la publicación final. Una vez hecho, publica el informe final.\"\"\",\n",
        "    expected_output=\"Informe Final\",\n",
        "    agent=gestor_de_marketing_de_contenido\n",
        ")"
      ],
      "metadata": {
        "id": "FgCVI15pl-XJ"
      },
      "execution_count": null,
      "outputs": []
    },
    {
      "cell_type": "markdown",
      "source": [
        "# Definimos nuestro equipo"
      ],
      "metadata": {
        "id": "zYW0AkbZaU2a"
      }
    },
    {
      "cell_type": "code",
      "source": [
        "agents = [investigador_online, gestor_de_blog, gestor_de_redes_sociales, gestor_de_marketing_de_contenido]\n",
        "\n",
        "crew = Crew(\n",
        "    agents=agents,\n",
        "    tasks=[tarea1, tarea2, tarea3, tarea4],\n",
        "    verbose=2\n",
        ")"
      ],
      "metadata": {
        "id": "LWxBNi-rpaW6",
        "colab": {
          "base_uri": "https://localhost:8080/"
        },
        "outputId": "f7fe9eab-b623-4e1a-f19b-31105b915201"
      },
      "execution_count": null,
      "outputs": [
        {
          "output_type": "stream",
          "name": "stderr",
          "text": [
            "WARNING:opentelemetry.trace:Overriding of current TracerProvider is not allowed\n"
          ]
        }
      ]
    },
    {
      "cell_type": "markdown",
      "source": [
        "# Poniendo nuestro equipo a trabajar"
      ],
      "metadata": {
        "id": "FUurFZQvbOCQ"
      }
    },
    {
      "cell_type": "code",
      "source": [
        "resultado = crew.kickoff()\n",
        "print(resultado)"
      ],
      "metadata": {
        "id": "5P5rE880qZhd"
      },
      "execution_count": null,
      "outputs": []
    }
  ]
}